{
 "cells": [
  {
   "cell_type": "code",
   "execution_count": 1,
   "id": "90114349",
   "metadata": {
    "execution": {
     "iopub.execute_input": "2025-03-25T02:48:39.601554Z",
     "iopub.status.busy": "2025-03-25T02:48:39.601110Z",
     "iopub.status.idle": "2025-03-25T02:49:05.818059Z",
     "shell.execute_reply": "2025-03-25T02:49:05.817166Z"
    },
    "papermill": {
     "duration": 26.223465,
     "end_time": "2025-03-25T02:49:05.819555",
     "exception": false,
     "start_time": "2025-03-25T02:48:39.596090",
     "status": "completed"
    },
    "tags": []
   },
   "outputs": [
    {
     "data": {
      "text/plain": [
       "<torch._C.Generator at 0x7be632afaa90>"
      ]
     },
     "execution_count": 1,
     "metadata": {},
     "output_type": "execute_result"
    }
   ],
   "source": [
    "import torch\n",
    "from torch import nn, optim\n",
    "from torch.utils.data import DataLoader\n",
    "from torchvision import transforms\n",
    "from torchvision.datasets import ImageFolder\n",
    "from transformers import ViTForImageClassification, ViTImageProcessor\n",
    "from torch.utils.data import DataLoader\n",
    "import matplotlib.pyplot as plt\n",
    "from sklearn.metrics import confusion_matrix, accuracy_score, precision_score, recall_score, roc_auc_score, roc_curve, f1_score\n",
    "import seaborn as sns\n",
    "import numpy as np\n",
    "torch.manual_seed(42)"
   ]
  },
  {
   "cell_type": "code",
   "execution_count": 2,
   "id": "15aa741c",
   "metadata": {
    "execution": {
     "iopub.execute_input": "2025-03-25T02:49:05.827002Z",
     "iopub.status.busy": "2025-03-25T02:49:05.826512Z",
     "iopub.status.idle": "2025-03-25T02:49:10.300118Z",
     "shell.execute_reply": "2025-03-25T02:49:10.299216Z"
    },
    "papermill": {
     "duration": 4.479359,
     "end_time": "2025-03-25T02:49:10.302314",
     "exception": false,
     "start_time": "2025-03-25T02:49:05.822955",
     "status": "completed"
    },
    "tags": []
   },
   "outputs": [],
   "source": [
    "dataset_dir = '/kaggle/input/cleaned-brain-storke/clean_dataset'\n",
    "testset_dir = '/kaggle/input/cleaned-testset/testset'\n",
    "\n",
    "transform = transforms.Compose([\n",
    "    transforms.Resize((224, 224)), \n",
    "    transforms.ToTensor(),\n",
    "    transforms.Normalize(mean=[0.19176629185676575, 0.19176629185676575, 0.19176629185676575],\n",
    "                         std=[0.3061337471008301, 0.3061337471008301, 0.3061337471008301]) \n",
    "])\n",
    "\n",
    "# Load dataset using ImageFolder\n",
    "dataset = ImageFolder(root=dataset_dir, transform=transform)\n",
    "testset = ImageFolder(root=testset_dir, transform=transform)\n",
    "\n",
    "train_size = int(0.8 * len(dataset))\n",
    "val_size = len(dataset) - train_size\n",
    "train_dataset, val_dataset = torch.utils.data.random_split(dataset, [train_size, val_size])"
   ]
  },
  {
   "cell_type": "code",
   "execution_count": 3,
   "id": "ed86911f",
   "metadata": {
    "execution": {
     "iopub.execute_input": "2025-03-25T02:49:10.317004Z",
     "iopub.status.busy": "2025-03-25T02:49:10.316528Z",
     "iopub.status.idle": "2025-03-25T02:49:10.320630Z",
     "shell.execute_reply": "2025-03-25T02:49:10.319751Z"
    },
    "papermill": {
     "duration": 0.012251,
     "end_time": "2025-03-25T02:49:10.322174",
     "exception": false,
     "start_time": "2025-03-25T02:49:10.309923",
     "status": "completed"
    },
    "tags": []
   },
   "outputs": [],
   "source": [
    "#dataloader = DataLoader(dataset, batch_size=32, shuffle=False, num_workers=4)\n",
    "\n",
    "#sum_pixels = 0\n",
    "#sum_squared_pixels = 0\n",
    "#num_pixels = 0\n",
    "\n",
    "#for images, _ in dataloader:\n",
    "#    sum_pixels += torch.mean(images, dim=[0, 2, 3])\n",
    "#    sum_squared_pixels += torch.mean(images**2, dim=[0, 2, 3])\n",
    "#    num_pixels += 1\n",
    "\n",
    "#mean = sum_pixels / num_pixels\n",
    "#std = (sum_squared_pixels / num_pixels - mean**2).sqrt()\n",
    "#print(f\"Mean: {mean.tolist()}\")\n",
    "#print(f\"Std: {std.tolist()}\")"
   ]
  },
  {
   "cell_type": "code",
   "execution_count": 4,
   "id": "f4b7721a",
   "metadata": {
    "execution": {
     "iopub.execute_input": "2025-03-25T02:49:10.330300Z",
     "iopub.status.busy": "2025-03-25T02:49:10.329872Z",
     "iopub.status.idle": "2025-03-25T02:49:10.335626Z",
     "shell.execute_reply": "2025-03-25T02:49:10.334638Z"
    },
    "papermill": {
     "duration": 0.011557,
     "end_time": "2025-03-25T02:49:10.337151",
     "exception": false,
     "start_time": "2025-03-25T02:49:10.325594",
     "status": "completed"
    },
    "tags": []
   },
   "outputs": [
    {
     "name": "stdout",
     "output_type": "stream",
     "text": [
      "{'inme Yok_kronik surec_diger Veri Set_PNG': 0, 'iskemi ve Kanama Veri Seti': 1}\n",
      "{'0_zero': 0, '1_one': 1}\n"
     ]
    }
   ],
   "source": [
    "print(dataset.class_to_idx)\n",
    "print(testset.class_to_idx)"
   ]
  },
  {
   "cell_type": "code",
   "execution_count": 5,
   "id": "7f64408d",
   "metadata": {
    "execution": {
     "iopub.execute_input": "2025-03-25T02:49:10.345403Z",
     "iopub.status.busy": "2025-03-25T02:49:10.344983Z",
     "iopub.status.idle": "2025-03-25T02:49:10.351542Z",
     "shell.execute_reply": "2025-03-25T02:49:10.350440Z"
    },
    "papermill": {
     "duration": 0.012662,
     "end_time": "2025-03-25T02:49:10.353373",
     "exception": false,
     "start_time": "2025-03-25T02:49:10.340711",
     "status": "completed"
    },
    "tags": []
   },
   "outputs": [],
   "source": [
    "train_dataloader = DataLoader(train_dataset, batch_size=32, shuffle=True, num_workers=4)\n",
    "val_dataloader = DataLoader(val_dataset, batch_size=32, shuffle=False, num_workers=4)\n",
    "test_dataloader = DataLoader(testset, batch_size=32, shuffle=False, num_workers=4)"
   ]
  },
  {
   "cell_type": "code",
   "execution_count": 6,
   "id": "a6534034",
   "metadata": {
    "execution": {
     "iopub.execute_input": "2025-03-25T02:49:10.367444Z",
     "iopub.status.busy": "2025-03-25T02:49:10.367087Z",
     "iopub.status.idle": "2025-03-25T02:49:12.979796Z",
     "shell.execute_reply": "2025-03-25T02:49:12.978749Z"
    },
    "papermill": {
     "duration": 2.621323,
     "end_time": "2025-03-25T02:49:12.981220",
     "exception": false,
     "start_time": "2025-03-25T02:49:10.359897",
     "status": "completed"
    },
    "tags": []
   },
   "outputs": [
    {
     "data": {
      "application/vnd.jupyter.widget-view+json": {
       "model_id": "6bf3bbb4f6a44d7fab0267b184f4d747",
       "version_major": 2,
       "version_minor": 0
      },
      "text/plain": [
       "config.json:   0%|          | 0.00/502 [00:00<?, ?B/s]"
      ]
     },
     "metadata": {},
     "output_type": "display_data"
    },
    {
     "data": {
      "application/vnd.jupyter.widget-view+json": {
       "model_id": "38e5276e2ead402cb84b88a74c846b90",
       "version_major": 2,
       "version_minor": 0
      },
      "text/plain": [
       "model.safetensors:   0%|          | 0.00/346M [00:00<?, ?B/s]"
      ]
     },
     "metadata": {},
     "output_type": "display_data"
    },
    {
     "name": "stderr",
     "output_type": "stream",
     "text": [
      "Some weights of ViTForImageClassification were not initialized from the model checkpoint at google/vit-base-patch16-224-in21k and are newly initialized: ['classifier.bias', 'classifier.weight']\n",
      "You should probably TRAIN this model on a down-stream task to be able to use it for predictions and inference.\n"
     ]
    },
    {
     "name": "stdout",
     "output_type": "stream",
     "text": [
      "Using 2 GPUs!\n"
     ]
    },
    {
     "data": {
      "text/plain": [
       "DataParallel(\n",
       "  (module): ViTForImageClassification(\n",
       "    (vit): ViTModel(\n",
       "      (embeddings): ViTEmbeddings(\n",
       "        (patch_embeddings): ViTPatchEmbeddings(\n",
       "          (projection): Conv2d(3, 768, kernel_size=(16, 16), stride=(16, 16))\n",
       "        )\n",
       "        (dropout): Dropout(p=0.0, inplace=False)\n",
       "      )\n",
       "      (encoder): ViTEncoder(\n",
       "        (layer): ModuleList(\n",
       "          (0-11): 12 x ViTLayer(\n",
       "            (attention): ViTSdpaAttention(\n",
       "              (attention): ViTSdpaSelfAttention(\n",
       "                (query): Linear(in_features=768, out_features=768, bias=True)\n",
       "                (key): Linear(in_features=768, out_features=768, bias=True)\n",
       "                (value): Linear(in_features=768, out_features=768, bias=True)\n",
       "                (dropout): Dropout(p=0.0, inplace=False)\n",
       "              )\n",
       "              (output): ViTSelfOutput(\n",
       "                (dense): Linear(in_features=768, out_features=768, bias=True)\n",
       "                (dropout): Dropout(p=0.0, inplace=False)\n",
       "              )\n",
       "            )\n",
       "            (intermediate): ViTIntermediate(\n",
       "              (dense): Linear(in_features=768, out_features=3072, bias=True)\n",
       "              (intermediate_act_fn): GELUActivation()\n",
       "            )\n",
       "            (output): ViTOutput(\n",
       "              (dense): Linear(in_features=3072, out_features=768, bias=True)\n",
       "              (dropout): Dropout(p=0.0, inplace=False)\n",
       "            )\n",
       "            (layernorm_before): LayerNorm((768,), eps=1e-12, elementwise_affine=True)\n",
       "            (layernorm_after): LayerNorm((768,), eps=1e-12, elementwise_affine=True)\n",
       "          )\n",
       "        )\n",
       "      )\n",
       "      (layernorm): LayerNorm((768,), eps=1e-12, elementwise_affine=True)\n",
       "    )\n",
       "    (classifier): Sequential(\n",
       "      (0): Linear(in_features=768, out_features=1, bias=True)\n",
       "    )\n",
       "  )\n",
       ")"
      ]
     },
     "execution_count": 6,
     "metadata": {},
     "output_type": "execute_result"
    }
   ],
   "source": [
    "model = ViTForImageClassification.from_pretrained(\"google/vit-base-patch16-224-in21k\", num_labels=1)\n",
    "model.classifier = nn.Sequential(  \n",
    "    nn.Linear(model.config.hidden_size, 1)  \n",
    ")\n",
    "device = torch.device(\"cuda\" if torch.cuda.is_available() else \"cpu\")\n",
    "if torch.cuda.device_count() > 1:\n",
    "    print(f\"Using {torch.cuda.device_count()} GPUs!\")\n",
    "    model = nn.DataParallel(model)\n",
    "model.to(device)"
   ]
  },
  {
   "cell_type": "code",
   "execution_count": 7,
   "id": "aa7fd103",
   "metadata": {
    "execution": {
     "iopub.execute_input": "2025-03-25T02:49:12.989911Z",
     "iopub.status.busy": "2025-03-25T02:49:12.989618Z",
     "iopub.status.idle": "2025-03-25T02:49:12.994005Z",
     "shell.execute_reply": "2025-03-25T02:49:12.993340Z"
    },
    "papermill": {
     "duration": 0.009876,
     "end_time": "2025-03-25T02:49:12.995153",
     "exception": false,
     "start_time": "2025-03-25T02:49:12.985277",
     "status": "completed"
    },
    "tags": []
   },
   "outputs": [],
   "source": [
    "for param in model.module.vit.parameters():\n",
    "    param.requires_grad = False  \n",
    "\n",
    "for param in model.module.classifier.parameters():\n",
    "    param.requires_grad = True"
   ]
  },
  {
   "cell_type": "code",
   "execution_count": 8,
   "id": "e297cb53",
   "metadata": {
    "execution": {
     "iopub.execute_input": "2025-03-25T02:49:13.003326Z",
     "iopub.status.busy": "2025-03-25T02:49:13.003089Z",
     "iopub.status.idle": "2025-03-25T02:49:13.007648Z",
     "shell.execute_reply": "2025-03-25T02:49:13.006963Z"
    },
    "papermill": {
     "duration": 0.009875,
     "end_time": "2025-03-25T02:49:13.008807",
     "exception": false,
     "start_time": "2025-03-25T02:49:12.998932",
     "status": "completed"
    },
    "tags": []
   },
   "outputs": [],
   "source": [
    "optimizer = optim.AdamW([\n",
    "    {'params': model.module.vit.parameters(), 'lr': 1e-5},\n",
    "    {'params': model.module.classifier.parameters(), 'lr': 1e-3}\n",
    "])\n",
    "criterion = nn.BCEWithLogitsLoss() "
   ]
  },
  {
   "cell_type": "code",
   "execution_count": 9,
   "id": "b24fcc21",
   "metadata": {
    "execution": {
     "iopub.execute_input": "2025-03-25T02:49:13.016847Z",
     "iopub.status.busy": "2025-03-25T02:49:13.016618Z",
     "iopub.status.idle": "2025-03-25T04:05:51.476228Z",
     "shell.execute_reply": "2025-03-25T04:05:51.475044Z"
    },
    "papermill": {
     "duration": 4598.471852,
     "end_time": "2025-03-25T04:05:51.484376",
     "exception": false,
     "start_time": "2025-03-25T02:49:13.012524",
     "status": "completed"
    },
    "tags": []
   },
   "outputs": [
    {
     "name": "stdout",
     "output_type": "stream",
     "text": [
      "Epoch [1/100], Train Loss: 0.6090, Train Accuracy: 67.19%, Validation Loss: 0.5634, Validation Accuracy: 72.16%, \n",
      "Epoch [2/100], Train Loss: 0.5391, Train Accuracy: 75.23%, Validation Loss: 0.5200, Validation Accuracy: 78.68%, \n",
      "Epoch [3/100], Train Loss: 0.4995, Train Accuracy: 77.42%, Validation Loss: 0.4882, Validation Accuracy: 77.00%, \n",
      "Epoch [4/100], Train Loss: 0.4725, Train Accuracy: 79.49%, Validation Loss: 0.4655, Validation Accuracy: 80.63%, \n",
      "Epoch [5/100], Train Loss: 0.4518, Train Accuracy: 80.56%, Validation Loss: 0.4493, Validation Accuracy: 79.98%, \n",
      "Epoch [6/100], Train Loss: 0.4351, Train Accuracy: 81.40%, Validation Loss: 0.4357, Validation Accuracy: 81.19%, \n",
      "Epoch [7/100], Train Loss: 0.4239, Train Accuracy: 81.70%, Validation Loss: 0.4295, Validation Accuracy: 80.26%, \n",
      "Epoch [8/100], Train Loss: 0.4092, Train Accuracy: 82.70%, Validation Loss: 0.4155, Validation Accuracy: 82.50%, \n",
      "Epoch [9/100], Train Loss: 0.4013, Train Accuracy: 82.58%, Validation Loss: 0.4078, Validation Accuracy: 82.59%, \n",
      "Epoch [10/100], Train Loss: 0.3919, Train Accuracy: 83.52%, Validation Loss: 0.4028, Validation Accuracy: 83.89%, \n",
      "Epoch [11/100], Train Loss: 0.3838, Train Accuracy: 84.00%, Validation Loss: 0.3980, Validation Accuracy: 82.59%, \n",
      "Epoch [12/100], Train Loss: 0.3776, Train Accuracy: 84.28%, Validation Loss: 0.3889, Validation Accuracy: 82.96%, \n",
      "Epoch [13/100], Train Loss: 0.3737, Train Accuracy: 84.52%, Validation Loss: 0.3860, Validation Accuracy: 83.52%, \n",
      "Epoch [14/100], Train Loss: 0.3662, Train Accuracy: 84.66%, Validation Loss: 0.3807, Validation Accuracy: 84.64%, \n",
      "Epoch [15/100], Train Loss: 0.3614, Train Accuracy: 84.82%, Validation Loss: 0.3766, Validation Accuracy: 83.80%, \n",
      "Epoch [16/100], Train Loss: 0.3555, Train Accuracy: 85.24%, Validation Loss: 0.3744, Validation Accuracy: 83.61%, \n",
      "Epoch [17/100], Train Loss: 0.3532, Train Accuracy: 85.12%, Validation Loss: 0.3680, Validation Accuracy: 84.26%, \n",
      "Epoch [18/100], Train Loss: 0.3493, Train Accuracy: 85.22%, Validation Loss: 0.3644, Validation Accuracy: 85.66%, \n",
      "Epoch [19/100], Train Loss: 0.3475, Train Accuracy: 85.31%, Validation Loss: 0.3607, Validation Accuracy: 84.54%, \n",
      "Epoch [20/100], Train Loss: 0.3437, Train Accuracy: 85.54%, Validation Loss: 0.3584, Validation Accuracy: 85.29%, \n",
      "Epoch [21/100], Train Loss: 0.3397, Train Accuracy: 85.96%, Validation Loss: 0.3566, Validation Accuracy: 86.03%, \n",
      "Epoch [22/100], Train Loss: 0.3348, Train Accuracy: 85.77%, Validation Loss: 0.3531, Validation Accuracy: 86.13%, \n",
      "Epoch [23/100], Train Loss: 0.3341, Train Accuracy: 86.01%, Validation Loss: 0.3502, Validation Accuracy: 86.03%, \n",
      "Epoch [24/100], Train Loss: 0.3313, Train Accuracy: 86.05%, Validation Loss: 0.3490, Validation Accuracy: 85.10%, \n",
      "Epoch [25/100], Train Loss: 0.3272, Train Accuracy: 86.38%, Validation Loss: 0.3471, Validation Accuracy: 85.20%, \n",
      "Epoch [26/100], Train Loss: 0.3245, Train Accuracy: 86.29%, Validation Loss: 0.3519, Validation Accuracy: 85.85%, \n",
      "Epoch [27/100], Train Loss: 0.3240, Train Accuracy: 86.75%, Validation Loss: 0.3422, Validation Accuracy: 86.31%, \n",
      "Epoch [28/100], Train Loss: 0.3199, Train Accuracy: 86.82%, Validation Loss: 0.3416, Validation Accuracy: 85.66%, \n",
      "Epoch [29/100], Train Loss: 0.3184, Train Accuracy: 86.71%, Validation Loss: 0.3386, Validation Accuracy: 86.03%, \n",
      "Epoch [30/100], Train Loss: 0.3156, Train Accuracy: 86.82%, Validation Loss: 0.3379, Validation Accuracy: 85.85%, \n",
      "Epoch [31/100], Train Loss: 0.3142, Train Accuracy: 87.08%, Validation Loss: 0.3349, Validation Accuracy: 86.69%, \n",
      "Epoch [32/100], Train Loss: 0.3111, Train Accuracy: 87.31%, Validation Loss: 0.3339, Validation Accuracy: 87.15%, \n",
      "Epoch [33/100], Train Loss: 0.3096, Train Accuracy: 87.15%, Validation Loss: 0.3330, Validation Accuracy: 86.22%, \n",
      "Epoch [34/100], Train Loss: 0.3088, Train Accuracy: 87.45%, Validation Loss: 0.3312, Validation Accuracy: 87.24%, \n",
      "Epoch [35/100], Train Loss: 0.3063, Train Accuracy: 87.31%, Validation Loss: 0.3290, Validation Accuracy: 87.24%, \n",
      "Epoch [36/100], Train Loss: 0.3057, Train Accuracy: 87.12%, Validation Loss: 0.3291, Validation Accuracy: 86.31%, \n",
      "Epoch [37/100], Train Loss: 0.3049, Train Accuracy: 87.47%, Validation Loss: 0.3276, Validation Accuracy: 86.87%, \n",
      "Epoch [38/100], Train Loss: 0.3029, Train Accuracy: 87.40%, Validation Loss: 0.3254, Validation Accuracy: 87.62%, \n",
      "Epoch [39/100], Train Loss: 0.2999, Train Accuracy: 87.43%, Validation Loss: 0.3262, Validation Accuracy: 86.59%, \n",
      "Epoch [40/100], Train Loss: 0.2994, Train Accuracy: 87.54%, Validation Loss: 0.3278, Validation Accuracy: 86.50%, \n",
      "Epoch [41/100], Train Loss: 0.3006, Train Accuracy: 87.75%, Validation Loss: 0.3218, Validation Accuracy: 87.34%, \n",
      "Epoch [42/100], Train Loss: 0.2980, Train Accuracy: 87.45%, Validation Loss: 0.3218, Validation Accuracy: 87.34%, \n",
      "Epoch [43/100], Train Loss: 0.2960, Train Accuracy: 87.68%, Validation Loss: 0.3203, Validation Accuracy: 87.43%, \n",
      "Epoch [44/100], Train Loss: 0.2951, Train Accuracy: 88.01%, Validation Loss: 0.3208, Validation Accuracy: 87.52%, \n",
      "Epoch [45/100], Train Loss: 0.2937, Train Accuracy: 87.99%, Validation Loss: 0.3182, Validation Accuracy: 87.71%, \n",
      "Epoch [46/100], Train Loss: 0.2919, Train Accuracy: 88.22%, Validation Loss: 0.3208, Validation Accuracy: 87.43%, \n",
      "Epoch [47/100], Train Loss: 0.2919, Train Accuracy: 88.15%, Validation Loss: 0.3185, Validation Accuracy: 87.71%, \n",
      "Epoch [48/100], Train Loss: 0.2890, Train Accuracy: 88.27%, Validation Loss: 0.3159, Validation Accuracy: 87.80%, \n",
      "Epoch [49/100], Train Loss: 0.2875, Train Accuracy: 87.96%, Validation Loss: 0.3159, Validation Accuracy: 87.71%, \n",
      "Epoch [50/100], Train Loss: 0.2877, Train Accuracy: 88.38%, Validation Loss: 0.3143, Validation Accuracy: 87.90%, \n",
      "Epoch [51/100], Train Loss: 0.2880, Train Accuracy: 88.34%, Validation Loss: 0.3134, Validation Accuracy: 87.80%, \n",
      "Epoch [52/100], Train Loss: 0.2859, Train Accuracy: 88.10%, Validation Loss: 0.3145, Validation Accuracy: 87.62%, \n",
      "Epoch [53/100], Train Loss: 0.2848, Train Accuracy: 88.27%, Validation Loss: 0.3122, Validation Accuracy: 87.80%, \n",
      "Epoch [54/100], Train Loss: 0.2844, Train Accuracy: 88.57%, Validation Loss: 0.3112, Validation Accuracy: 87.62%, \n",
      "Epoch [55/100], Train Loss: 0.2822, Train Accuracy: 88.59%, Validation Loss: 0.3112, Validation Accuracy: 88.27%, \n",
      "Epoch [56/100], Train Loss: 0.2813, Train Accuracy: 88.41%, Validation Loss: 0.3104, Validation Accuracy: 88.08%, \n",
      "Epoch [57/100], Train Loss: 0.2815, Train Accuracy: 88.64%, Validation Loss: 0.3103, Validation Accuracy: 88.27%, \n",
      "Epoch [58/100], Train Loss: 0.2838, Train Accuracy: 88.57%, Validation Loss: 0.3094, Validation Accuracy: 88.36%, \n",
      "Epoch [59/100], Train Loss: 0.2797, Train Accuracy: 88.82%, Validation Loss: 0.3078, Validation Accuracy: 88.08%, \n",
      "Epoch [60/100], Train Loss: 0.2779, Train Accuracy: 88.64%, Validation Loss: 0.3104, Validation Accuracy: 87.99%, \n",
      "Epoch [61/100], Train Loss: 0.2789, Train Accuracy: 88.66%, Validation Loss: 0.3095, Validation Accuracy: 88.08%, \n",
      "Epoch [62/100], Train Loss: 0.2790, Train Accuracy: 88.73%, Validation Loss: 0.3072, Validation Accuracy: 88.45%, \n",
      "Epoch [63/100], Train Loss: 0.2767, Train Accuracy: 88.80%, Validation Loss: 0.3073, Validation Accuracy: 88.45%, \n",
      "Epoch [64/100], Train Loss: 0.2742, Train Accuracy: 89.08%, Validation Loss: 0.3056, Validation Accuracy: 88.27%, \n",
      "Epoch [65/100], Train Loss: 0.2765, Train Accuracy: 88.78%, Validation Loss: 0.3063, Validation Accuracy: 88.55%, \n",
      "Epoch [66/100], Train Loss: 0.2733, Train Accuracy: 88.78%, Validation Loss: 0.3054, Validation Accuracy: 87.90%, \n",
      "Epoch [67/100], Train Loss: 0.2762, Train Accuracy: 89.01%, Validation Loss: 0.3052, Validation Accuracy: 88.36%, \n",
      "Epoch [68/100], Train Loss: 0.2733, Train Accuracy: 88.89%, Validation Loss: 0.3037, Validation Accuracy: 87.99%, \n",
      "Epoch [69/100], Train Loss: 0.2727, Train Accuracy: 88.96%, Validation Loss: 0.3029, Validation Accuracy: 88.08%, \n",
      "Epoch [70/100], Train Loss: 0.2711, Train Accuracy: 89.20%, Validation Loss: 0.3025, Validation Accuracy: 88.08%, \n",
      "Epoch [71/100], Train Loss: 0.2707, Train Accuracy: 89.20%, Validation Loss: 0.3019, Validation Accuracy: 88.55%, \n",
      "Epoch [72/100], Train Loss: 0.2708, Train Accuracy: 89.06%, Validation Loss: 0.3061, Validation Accuracy: 88.27%, \n",
      "Epoch [73/100], Train Loss: 0.2687, Train Accuracy: 89.01%, Validation Loss: 0.3022, Validation Accuracy: 88.64%, \n",
      "Epoch [74/100], Train Loss: 0.2689, Train Accuracy: 89.36%, Validation Loss: 0.3018, Validation Accuracy: 88.64%, \n",
      "Epoch [75/100], Train Loss: 0.2686, Train Accuracy: 89.15%, Validation Loss: 0.3012, Validation Accuracy: 88.36%, \n",
      "Epoch [76/100], Train Loss: 0.2679, Train Accuracy: 89.06%, Validation Loss: 0.3014, Validation Accuracy: 88.27%, \n",
      "Epoch [77/100], Train Loss: 0.2658, Train Accuracy: 89.17%, Validation Loss: 0.2999, Validation Accuracy: 88.45%, \n",
      "Epoch [78/100], Train Loss: 0.2660, Train Accuracy: 89.08%, Validation Loss: 0.3013, Validation Accuracy: 88.36%, \n",
      "Epoch [79/100], Train Loss: 0.2681, Train Accuracy: 89.29%, Validation Loss: 0.2997, Validation Accuracy: 88.36%, \n",
      "Epoch [80/100], Train Loss: 0.2670, Train Accuracy: 89.36%, Validation Loss: 0.2989, Validation Accuracy: 88.27%, \n",
      "Epoch [81/100], Train Loss: 0.2649, Train Accuracy: 89.38%, Validation Loss: 0.2986, Validation Accuracy: 88.55%, \n",
      "Epoch [82/100], Train Loss: 0.2639, Train Accuracy: 89.45%, Validation Loss: 0.2996, Validation Accuracy: 88.08%, \n",
      "Epoch [83/100], Train Loss: 0.2645, Train Accuracy: 89.48%, Validation Loss: 0.2981, Validation Accuracy: 88.55%, \n",
      "Epoch [84/100], Train Loss: 0.2644, Train Accuracy: 89.50%, Validation Loss: 0.2996, Validation Accuracy: 88.73%, \n",
      "Epoch [85/100], Train Loss: 0.2662, Train Accuracy: 89.55%, Validation Loss: 0.3058, Validation Accuracy: 88.27%, \n",
      "Epoch [86/100], Train Loss: 0.2606, Train Accuracy: 89.64%, Validation Loss: 0.2970, Validation Accuracy: 88.36%, \n",
      "Epoch [87/100], Train Loss: 0.2614, Train Accuracy: 89.59%, Validation Loss: 0.2962, Validation Accuracy: 88.45%, \n",
      "Epoch [88/100], Train Loss: 0.2607, Train Accuracy: 89.59%, Validation Loss: 0.2960, Validation Accuracy: 88.36%, \n",
      "Epoch [89/100], Train Loss: 0.2615, Train Accuracy: 89.34%, Validation Loss: 0.2967, Validation Accuracy: 88.64%, \n",
      "Epoch [90/100], Train Loss: 0.2591, Train Accuracy: 89.80%, Validation Loss: 0.2962, Validation Accuracy: 88.64%, \n",
      "Epoch [91/100], Train Loss: 0.2611, Train Accuracy: 89.55%, Validation Loss: 0.2979, Validation Accuracy: 88.64%, \n",
      "Epoch [92/100], Train Loss: 0.2587, Train Accuracy: 89.76%, Validation Loss: 0.2963, Validation Accuracy: 88.73%, \n",
      "Epoch [93/100], Train Loss: 0.2586, Train Accuracy: 89.71%, Validation Loss: 0.2954, Validation Accuracy: 88.45%, \n",
      "Epoch [94/100], Train Loss: 0.2584, Train Accuracy: 89.80%, Validation Loss: 0.2945, Validation Accuracy: 88.64%, \n",
      "Epoch [95/100], Train Loss: 0.2570, Train Accuracy: 89.66%, Validation Loss: 0.3039, Validation Accuracy: 88.64%, \n",
      "Epoch [96/100], Train Loss: 0.2587, Train Accuracy: 89.76%, Validation Loss: 0.2939, Validation Accuracy: 88.73%, \n",
      "Epoch [97/100], Train Loss: 0.2571, Train Accuracy: 89.78%, Validation Loss: 0.2947, Validation Accuracy: 88.64%, \n",
      "Epoch [98/100], Train Loss: 0.2568, Train Accuracy: 89.94%, Validation Loss: 0.2941, Validation Accuracy: 88.73%, \n",
      "Epoch [99/100], Train Loss: 0.2555, Train Accuracy: 89.69%, Validation Loss: 0.2938, Validation Accuracy: 88.92%, \n",
      "Epoch [100/100], Train Loss: 0.2554, Train Accuracy: 89.69%, Validation Loss: 0.2932, Validation Accuracy: 88.64%, \n"
     ]
    }
   ],
   "source": [
    "train_losses = []\n",
    "val_losses = []\n",
    "train_accuracies = []\n",
    "val_accuracies = []\n",
    "epochs = 100\n",
    "\n",
    "# Training loop\n",
    "for epoch in range(epochs):\n",
    "    model.train()\n",
    "    running_train_loss = 0.0\n",
    "    correct_train = 0\n",
    "    total_train = 0\n",
    "\n",
    "    # Iterate through training data\n",
    "    for inputs, labels in train_dataloader:\n",
    "        inputs, labels = inputs.cuda(), labels.cuda()  # Move data to GPU\n",
    "\n",
    "        # Zero the parameter gradients\n",
    "        optimizer.zero_grad()\n",
    "\n",
    "        # Forward pass\n",
    "        outputs = model(inputs).logits\n",
    "        loss = criterion(outputs.squeeze(), labels.float())\n",
    "\n",
    "        # Backward pass\n",
    "        loss.backward()\n",
    "        optimizer.step()\n",
    "\n",
    "        # Track running loss\n",
    "        running_train_loss += loss.item()\n",
    "\n",
    "        # Track accuracy\n",
    "        predicted = (torch.sigmoid(outputs.squeeze()) > 0.5).long()\n",
    "        total_train += labels.size(0)\n",
    "        correct_train += (predicted == labels).sum().item()\n",
    "\n",
    "    avg_train_loss = running_train_loss / len(train_dataloader)\n",
    "    train_losses.append(avg_train_loss)\n",
    "    train_accuracy = 100 * correct_train / total_train\n",
    "    train_accuracies.append(train_accuracy)\n",
    "    \n",
    "    # Validation loop\n",
    "    model.eval()\n",
    "    running_val_loss = 0.0\n",
    "    correct_val = 0\n",
    "    total_val = 0\n",
    "    \n",
    "    with torch.no_grad():\n",
    "        for inputs, labels in val_dataloader:\n",
    "            inputs, labels = inputs.cuda(), labels.cuda()\n",
    "\n",
    "            # Forward pass\n",
    "            outputs = model(inputs).logits\n",
    "            loss = criterion(outputs.squeeze(), labels.float())\n",
    "\n",
    "            running_val_loss += loss.item()\n",
    "\n",
    "            # Track validation accuracy\n",
    "            predicted = (torch.sigmoid(outputs.squeeze()) > 0.5).long()\n",
    "            total_val += labels.size(0)\n",
    "            correct_val += (predicted == labels).sum().item()\n",
    "\n",
    "    avg_val_loss = running_val_loss / len(val_dataloader)\n",
    "    val_losses.append(avg_val_loss)\n",
    "    val_accuracy = 100 * correct_val / total_val\n",
    "    val_accuracies.append(val_accuracy)\n",
    "    \n",
    "    print(f'Epoch [{epoch+1}/{epochs}], '\n",
    "          f'Train Loss: {avg_train_loss:.4f}, Train Accuracy: {train_accuracy:.2f}%, '\n",
    "          f'Validation Loss: {avg_val_loss:.4f}, Validation Accuracy: {val_accuracy:.2f}%, ')"
   ]
  },
  {
   "cell_type": "code",
   "execution_count": 10,
   "id": "413131c0",
   "metadata": {
    "execution": {
     "iopub.execute_input": "2025-03-25T04:05:51.501601Z",
     "iopub.status.busy": "2025-03-25T04:05:51.501266Z",
     "iopub.status.idle": "2025-03-25T04:05:51.967488Z",
     "shell.execute_reply": "2025-03-25T04:05:51.966492Z"
    },
    "papermill": {
     "duration": 0.476807,
     "end_time": "2025-03-25T04:05:51.969145",
     "exception": false,
     "start_time": "2025-03-25T04:05:51.492338",
     "status": "completed"
    },
    "tags": []
   },
   "outputs": [],
   "source": [
    "torch.save(model.state_dict(), 'Vit1e-5-batch32-model.pth') "
   ]
  },
  {
   "cell_type": "code",
   "execution_count": 11,
   "id": "303676e4",
   "metadata": {
    "execution": {
     "iopub.execute_input": "2025-03-25T04:05:51.991495Z",
     "iopub.status.busy": "2025-03-25T04:05:51.991238Z",
     "iopub.status.idle": "2025-03-25T04:05:52.000745Z",
     "shell.execute_reply": "2025-03-25T04:05:51.999682Z"
    },
    "papermill": {
     "duration": 0.023952,
     "end_time": "2025-03-25T04:05:52.002581",
     "exception": false,
     "start_time": "2025-03-25T04:05:51.978629",
     "status": "completed"
    },
    "tags": []
   },
   "outputs": [],
   "source": [
    "# Function to Evaluate Model on Any Dataset (Validation or Test)\n",
    "def evaluate_model(model, data_loader):\n",
    "    model.eval()\n",
    "    y_true, y_pred_prob = [], []\n",
    "\n",
    "    with torch.no_grad():\n",
    "        for images, labels in data_loader:\n",
    "            images, labels = images.to(device), labels.to(device)\n",
    "            outputs = model(images).logits\n",
    "            probabilities = torch.sigmoid(outputs)\n",
    "            \n",
    "            y_true.extend(labels.cpu().numpy())\n",
    "            y_pred_prob.extend(probabilities.cpu().numpy())\n",
    "\n",
    "    y_true = np.array(y_true)\n",
    "    y_pred_prob = np.array(y_pred_prob)\n",
    "    y_pred = (y_pred_prob >= 0.5).astype(int)\n",
    "\n",
    "    cm = confusion_matrix(y_true, y_pred)\n",
    "    accuracy = accuracy_score(y_true, y_pred)\n",
    "    precision = precision_score(y_true, y_pred)\n",
    "    recall = recall_score(y_true, y_pred)  \n",
    "    specificity = cm[0, 0] / (cm[0, 0] + cm[0, 1])  \n",
    "    auc_score = roc_auc_score(y_true, y_pred_prob)\n",
    "    f1 = f1_score(y_true, y_pred)\n",
    "\n",
    "    print(f\"\\nConfusion Matrix:\\n{cm}\")\n",
    "    print(f\"Accuracy: {accuracy:.4f}\")\n",
    "    print(f\"Precision: {precision:.4f}\")\n",
    "    print(f\"Recall (Sensitivity): {recall:.4f}\")\n",
    "    print(f\"Specificity: {specificity:.4f}\")\n",
    "    print(f\"AUC Score: {auc_score:.4f}\")\n",
    "    print(f\"F1 Score: {f1:.4f}\")\n",
    "\n",
    "    return y_true, y_pred_prob, cm, auc_score, accuracy, precision, recall, specificity, f1\n"
   ]
  },
  {
   "cell_type": "code",
   "execution_count": 12,
   "id": "d6d39ce5",
   "metadata": {
    "execution": {
     "iopub.execute_input": "2025-03-25T04:05:52.020788Z",
     "iopub.status.busy": "2025-03-25T04:05:52.020463Z",
     "iopub.status.idle": "2025-03-25T04:05:52.027706Z",
     "shell.execute_reply": "2025-03-25T04:05:52.026965Z"
    },
    "papermill": {
     "duration": 0.017853,
     "end_time": "2025-03-25T04:05:52.029061",
     "exception": false,
     "start_time": "2025-03-25T04:05:52.011208",
     "status": "completed"
    },
    "tags": []
   },
   "outputs": [],
   "source": [
    "def draw_graph(y_true, y_pred_prob, cm, auc_score):\n",
    "    # Plot Confusion Matrix\n",
    "    plt.figure(figsize=(6, 5))\n",
    "    sns.heatmap(cm, annot=True, fmt='d', cmap='Blues', xticklabels=[\"Negative\", \"Positive\"], yticklabels=[\"Negative\", \"Positive\"])\n",
    "    plt.xlabel(\"Predicted Label\")\n",
    "    plt.ylabel(\"True Label\")\n",
    "    plt.title(\"Confusion Matrix\")\n",
    "    plt.show()\n",
    "    \n",
    "    # Plot ROC Curve\n",
    "    fpr, tpr, _ = roc_curve(y_true, y_pred_prob)\n",
    "    plt.figure(figsize=(6, 5))\n",
    "    plt.plot(fpr, tpr, label=f\"AUC = {auc_score:.4f}\", color=\"darkorange\")\n",
    "    plt.plot([0, 1], [0, 1], linestyle=\"--\", color=\"gray\")\n",
    "    plt.xlabel(\"False Positive Rate\")\n",
    "    plt.ylabel(\"True Positive Rate\")\n",
    "    plt.title(\"ROC Curve\")\n",
    "    plt.legend()\n",
    "    plt.show()"
   ]
  },
  {
   "cell_type": "code",
   "execution_count": 13,
   "id": "586d9239",
   "metadata": {
    "execution": {
     "iopub.execute_input": "2025-03-25T04:05:52.045051Z",
     "iopub.status.busy": "2025-03-25T04:05:52.044787Z",
     "iopub.status.idle": "2025-03-25T04:06:03.645352Z",
     "shell.execute_reply": "2025-03-25T04:06:03.644366Z"
    },
    "papermill": {
     "duration": 11.609951,
     "end_time": "2025-03-25T04:06:03.646641",
     "exception": false,
     "start_time": "2025-03-25T04:05:52.036690",
     "status": "completed"
    },
    "tags": []
   },
   "outputs": [
    {
     "name": "stdout",
     "output_type": "stream",
     "text": [
      "\n",
      " Evaluating on Validation Set:\n",
      "\n",
      "Confusion Matrix:\n",
      "[[620  43]\n",
      " [ 79 332]]\n",
      "Accuracy: 0.8864\n",
      "Precision: 0.8853\n",
      "Recall (Sensitivity): 0.8078\n",
      "Specificity: 0.9351\n",
      "AUC Score: 0.9416\n",
      "F1 Score: 0.8448\n"
     ]
    },
    {
     "data": {
      "image/png": "[encoded data removed]",
      "text/plain": [
       "<Figure size 600x500 with 2 Axes>"
      ]
     },
     "metadata": {},
     "output_type": "display_data"
    },
    {
     "data": {
      "image/png": "[encoded data removed]",
      "text/plain": [
       "<Figure size 600x500 with 1 Axes>"
      ]
     },
     "metadata": {},
     "output_type": "display_data"
    },
    {
     "name": "stdout",
     "output_type": "stream",
     "text": [
      "\n",
      " Ealuating on Test Set:\n",
      "\n",
      "Confusion Matrix:\n",
      "[[101  18]\n",
      " [ 22  38]]\n",
      "Accuracy: 0.7765\n",
      "Precision: 0.6786\n",
      "Recall (Sensitivity): 0.6333\n",
      "Specificity: 0.8487\n",
      "AUC Score: 0.8780\n",
      "F1 Score: 0.6552\n"
     ]
    },
    {
     "data": {
      "image/png": "[encoded data removed]",
      "text/plain": [
       "<Figure size 600x500 with 2 Axes>"
      ]
     },
     "metadata": {},
     "output_type": "display_data"
    },
    {
     "data": {
      "image/png": "[encoded data removed]",
      "text/plain": [
       "<Figure size 600x500 with 1 Axes>"
      ]
     },
     "metadata": {},
     "output_type": "display_data"
    }
   ],
   "source": [
    "print(\"\\n Evaluating on Validation Set:\")\n",
    "evaluation_list = evaluate_model(model, val_dataloader)\n",
    "y_true, y_pred_prob, cm, auc_score = evaluation_list[:4]\n",
    "draw_graph(y_true, y_pred_prob, cm, auc_score)\n",
    "print(\"\\n Ealuating on Test Set:\")\n",
    "test_evaluation_list = evaluate_model(model, test_dataloader)\n",
    "t_y_true, t_y_pred_prob, t_cm, t_auc_score = test_evaluation_list[:4]\n",
    "draw_graph(t_y_true, t_y_pred_prob, t_cm, t_auc_score)"
   ]
  },
  {
   "cell_type": "code",
   "execution_count": 14,
   "id": "e040144e",
   "metadata": {
    "execution": {
     "iopub.execute_input": "2025-03-25T04:06:03.668474Z",
     "iopub.status.busy": "2025-03-25T04:06:03.668187Z",
     "iopub.status.idle": "2025-03-25T04:06:04.061677Z",
     "shell.execute_reply": "2025-03-25T04:06:04.060865Z"
    },
    "papermill": {
     "duration": 0.405668,
     "end_time": "2025-03-25T04:06:04.063382",
     "exception": false,
     "start_time": "2025-03-25T04:06:03.657714",
     "status": "completed"
    },
    "tags": []
   },
   "outputs": [
    {
     "data": {
      "image/png": "[encoded data removed]",
      "text/plain": [
       "<Figure size 1200x600 with 2 Axes>"
      ]
     },
     "metadata": {},
     "output_type": "display_data"
    }
   ],
   "source": [
    "    # Plot Train_Val accuracy\n",
    "    plt.figure(figsize=(12, 6))\n",
    "    plt.subplot(1, 2, 1)\n",
    "    plt.plot(train_accuracies, label='Train Accuracy')\n",
    "    plt.plot(val_accuracies, label='Val Accuracy')\n",
    "    plt.title('Model Accuracy')\n",
    "    plt.xlabel('Epoch')\n",
    "    plt.ylabel('Accuracy')\n",
    "    plt.legend()\n",
    "    \n",
    "    # Plot Train_Val loss\n",
    "    plt.subplot(1, 2, 2)\n",
    "    plt.plot(train_losses, label='Train Loss')\n",
    "    plt.plot(val_losses, label='Val Loss')\n",
    "    plt.title('Model Loss')\n",
    "    plt.xlabel('Epoch')\n",
    "    plt.ylabel('Loss')\n",
    "    plt.legend()\n",
    "    \n",
    "    plt.tight_layout()\n",
    "    plt.show()"
   ]
  },
  {
   "cell_type": "code",
   "execution_count": null,
   "id": "ccc73d34",
   "metadata": {
    "papermill": {
     "duration": 0.010691,
     "end_time": "2025-03-25T04:06:04.086123",
     "exception": false,
     "start_time": "2025-03-25T04:06:04.075432",
     "status": "completed"
    },
    "tags": []
   },
   "outputs": [],
   "source": []
  }
 ],
 "metadata": {
  "kaggle": {
   "accelerator": "nvidiaTeslaT4",
   "dataSources": [
    {
     "datasetId": 6957738,
     "sourceId": 11151958,
     "sourceType": "datasetVersion"
    },
    {
     "datasetId": 6957759,
     "sourceId": 11151989,
     "sourceType": "datasetVersion"
    }
   ],
   "dockerImageVersionId": 30919,
   "isGpuEnabled": true,
   "isInternetEnabled": true,
   "language": "python",
   "sourceType": "notebook"
  },
  "kernelspec": {
   "display_name": "Python 3",
   "language": "python",
   "name": "python3"
  },
  "language_info": {
   "codemirror_mode": {
    "name": "ipython",
    "version": 3
   },
   "file_extension": ".py",
   "mimetype": "text/x-python",
   "name": "python",
   "nbconvert_exporter": "python",
   "pygments_lexer": "ipython3",
   "version": "3.10.12"
  },
  "papermill": {
   "default_parameters": {},
   "duration": 4651.182784,
   "end_time": "2025-03-25T04:06:07.791408",
   "environment_variables": {},
   "exception": null,
   "input_path": "__notebook__.ipynb",
   "output_path": "__notebook__.ipynb",
   "parameters": {},
   "start_time": "2025-03-25T02:48:36.608624",
   "version": "2.6.0"
  },
  "widgets": {
   "application/vnd.jupyter.widget-state+json": {
    "state": {
     "11ffaea1f0194b81b78d2a4f346c5cf6": {
      "model_module": "@jupyter-widgets/controls",
      "model_module_version": "2.0.0",
      "model_name": "FloatProgressModel",
      "state": {
       "_dom_classes": [],
       "_model_module": "@jupyter-widgets/controls",
       "_model_module_version": "2.0.0",
       "_model_name": "FloatProgressModel",
       "_view_count": null,
       "_view_module": "@jupyter-widgets/controls",
       "_view_module_version": "2.0.0",
       "_view_name": "ProgressView",
       "bar_style": "success",
       "description": "",
       "description_allow_html": false,
       "layout": "IPY_MODEL_bd0b768e6e6649deaae114016c4d68ae",
       "max": 502.0,
       "min": 0.0,
       "orientation": "horizontal",
       "style": "IPY_MODEL_dda4dab5940443179633e84313efa909",
       "tabbable": null,
       "tooltip": null,
       "value": 502.0
      }
     },
     "38e5276e2ead402cb84b88a74c846b90": {
      "model_module": "@jupyter-widgets/controls",
      "model_module_version": "2.0.0",
      "model_name": "HBoxModel",
      "state": {
       "_dom_classes": [],
       "_model_module": "@jupyter-widgets/controls",
       "_model_module_version": "2.0.0",
       "_model_name": "HBoxModel",
       "_view_count": null,
       "_view_module": "@jupyter-widgets/controls",
       "_view_module_version": "2.0.0",
       "_view_name": "HBoxView",
       "box_style": "",
       "children": [
        "IPY_MODEL_95c4919e5d084589887d7ca1e7fd9de0",
        "IPY_MODEL_b8ad238b696e47cebea176390176e086",
        "IPY_MODEL_3b08c4d8e05d4c69857cd80e3a1c7d91"
       ],
       "layout": "IPY_MODEL_7b455359096c4f9fb0aa978a44b8b858",
       "tabbable": null,
       "tooltip": null
      }
     },
     "3b08c4d8e05d4c69857cd80e3a1c7d91": {
      "model_module": "@jupyter-widgets/controls",
      "model_module_version": "2.0.0",
      "model_name": "HTMLModel",
      "state": {
       "_dom_classes": [],
       "_model_module": "@jupyter-widgets/controls",
       "_model_module_version": "2.0.0",
       "_model_name": "HTMLModel",
       "_view_count": null,
       "_view_module": "@jupyter-widgets/controls",
       "_view_module_version": "2.0.0",
       "_view_name": "HTMLView",
       "description": "",
       "description_allow_html": false,
       "layout": "IPY_MODEL_973d5bae4f114f90af85ab3082f8df1d",
       "placeholder": "​",
       "style": "IPY_MODEL_90dd4243e5914576b6863efed3259b9a",
       "tabbable": null,
       "tooltip": null,
       "value": " 346M/346M [00:01&lt;00:00, 251MB/s]"
      }
     },
     "428d0146eefd4abcbc408483fed5c95e": {
      "model_module": "@jupyter-widgets/base",
      "model_module_version": "2.0.0",
      "model_name": "LayoutModel",
      "state": {
       "_model_module": "@jupyter-widgets/base",
       "_model_module_version": "2.0.0",
       "_model_name": "LayoutModel",
       "_view_count": null,
       "_view_module": "@jupyter-widgets/base",
       "_view_module_version": "2.0.0",
       "_view_name": "LayoutView",
       "align_content": null,
       "align_items": null,
       "align_self": null,
       "border_bottom": null,
       "border_left": null,
       "border_right": null,
       "border_top": null,
       "bottom": null,
       "display": null,
       "flex": null,
       "flex_flow": null,
       "grid_area": null,
       "grid_auto_columns": null,
       "grid_auto_flow": null,
       "grid_auto_rows": null,
       "grid_column": null,
       "grid_gap": null,
       "grid_row": null,
       "grid_template_areas": null,
       "grid_template_columns": null,
       "grid_template_rows": null,
       "height": null,
       "justify_content": null,
       "justify_items": null,
       "left": null,
       "margin": null,
       "max_height": null,
       "max_width": null,
       "min_height": null,
       "min_width": null,
       "object_fit": null,
       "object_position": null,
       "order": null,
       "overflow": null,
       "padding": null,
       "right": null,
       "top": null,
       "visibility": null,
       "width": null
      }
     },
     "6a16ee01829548a9ba7ce374cab9c2d3": {
      "model_module": "@jupyter-widgets/base",
      "model_module_version": "2.0.0",
      "model_name": "LayoutModel",
      "state": {
       "_model_module": "@jupyter-widgets/base",
       "_model_module_version": "2.0.0",
       "_model_name": "LayoutModel",
       "_view_count": null,
       "_view_module": "@jupyter-widgets/base",
       "_view_module_version": "2.0.0",
       "_view_name": "LayoutView",
       "align_content": null,
       "align_items": null,
       "align_self": null,
       "border_bottom": null,
       "border_left": null,
       "border_right": null,
       "border_top": null,
       "bottom": null,
       "display": null,
       "flex": null,
       "flex_flow": null,
       "grid_area": null,
       "grid_auto_columns": null,
       "grid_auto_flow": null,
       "grid_auto_rows": null,
       "grid_column": null,
       "grid_gap": null,
       "grid_row": null,
       "grid_template_areas": null,
       "grid_template_columns": null,
       "grid_template_rows": null,
       "height": null,
       "justify_content": null,
       "justify_items": null,
       "left": null,
       "margin": null,
       "max_height": null,
       "max_width": null,
       "min_height": null,
       "min_width": null,
       "object_fit": null,
       "object_position": null,
       "order": null,
       "overflow": null,
       "padding": null,
       "right": null,
       "top": null,
       "visibility": null,
       "width": null
      }
     },
     "6bf3bbb4f6a44d7fab0267b184f4d747": {
      "model_module": "@jupyter-widgets/controls",
      "model_module_version": "2.0.0",
      "model_name": "HBoxModel",
      "state": {
       "_dom_classes": [],
       "_model_module": "@jupyter-widgets/controls",
       "_model_module_version": "2.0.0",
       "_model_name": "HBoxModel",
       "_view_count": null,
       "_view_module": "@jupyter-widgets/controls",
       "_view_module_version": "2.0.0",
       "_view_name": "HBoxView",
       "box_style": "",
       "children": [
        "IPY_MODEL_7c59c20e055b42dcbc0a46693362adc2",
        "IPY_MODEL_11ffaea1f0194b81b78d2a4f346c5cf6",
        "IPY_MODEL_ede162997802487fb05f92be603b8e7c"
       ],
       "layout": "IPY_MODEL_ee696e78e20a4c67a8b1e42b9a779be7",
       "tabbable": null,
       "tooltip": null
      }
     },
     "7b455359096c4f9fb0aa978a44b8b858": {
      "model_module": "@jupyter-widgets/base",
      "model_module_version": "2.0.0",
      "model_name": "LayoutModel",
      "state": {
       "_model_module": "@jupyter-widgets/base",
       "_model_module_version": "2.0.0",
       "_model_name": "LayoutModel",
       "_view_count": null,
       "_view_module": "@jupyter-widgets/base",
       "_view_module_version": "2.0.0",
       "_view_name": "LayoutView",
       "align_content": null,
       "align_items": null,
       "align_self": null,
       "border_bottom": null,
       "border_left": null,
       "border_right": null,
       "border_top": null,
       "bottom": null,
       "display": null,
       "flex": null,
       "flex_flow": null,
       "grid_area": null,
       "grid_auto_columns": null,
       "grid_auto_flow": null,
       "grid_auto_rows": null,
       "grid_column": null,
       "grid_gap": null,
       "grid_row": null,
       "grid_template_areas": null,
       "grid_template_columns": null,
       "grid_template_rows": null,
       "height": null,
       "justify_content": null,
       "justify_items": null,
       "left": null,
       "margin": null,
       "max_height": null,
       "max_width": null,
       "min_height": null,
       "min_width": null,
       "object_fit": null,
       "object_position": null,
       "order": null,
       "overflow": null,
       "padding": null,
       "right": null,
       "top": null,
       "visibility": null,
       "width": null
      }
     },
     "7c59c20e055b42dcbc0a46693362adc2": {
      "model_module": "@jupyter-widgets/controls",
      "model_module_version": "2.0.0",
      "model_name": "HTMLModel",
      "state": {
       "_dom_classes": [],
       "_model_module": "@jupyter-widgets/controls",
       "_model_module_version": "2.0.0",
       "_model_name": "HTMLModel",
       "_view_count": null,
       "_view_module": "@jupyter-widgets/controls",
       "_view_module_version": "2.0.0",
       "_view_name": "HTMLView",
       "description": "",
       "description_allow_html": false,
       "layout": "IPY_MODEL_428d0146eefd4abcbc408483fed5c95e",
       "placeholder": "​",
       "style": "IPY_MODEL_d973f76a5c1f4446aae3135d8acf4f69",
       "tabbable": null,
       "tooltip": null,
       "value": "config.json: 100%"
      }
     },
     "8399b0c048814bfcb69b8fa370c615ef": {
      "model_module": "@jupyter-widgets/controls",
      "model_module_version": "2.0.0",
      "model_name": "ProgressStyleModel",
      "state": {
       "_model_module": "@jupyter-widgets/controls",
       "_model_module_version": "2.0.0",
       "_model_name": "ProgressStyleModel",
       "_view_count": null,
       "_view_module": "@jupyter-widgets/base",
       "_view_module_version": "2.0.0",
       "_view_name": "StyleView",
       "bar_color": null,
       "description_width": ""
      }
     },
     "8643993e937d418fb00ff0b9983b2040": {
      "model_module": "@jupyter-widgets/base",
      "model_module_version": "2.0.0",
      "model_name": "LayoutModel",
      "state": {
       "_model_module": "@jupyter-widgets/base",
       "_model_module_version": "2.0.0",
       "_model_name": "LayoutModel",
       "_view_count": null,
       "_view_module": "@jupyter-widgets/base",
       "_view_module_version": "2.0.0",
       "_view_name": "LayoutView",
       "align_content": null,
       "align_items": null,
       "align_self": null,
       "border_bottom": null,
       "border_left": null,
       "border_right": null,
       "border_top": null,
       "bottom": null,
       "display": null,
       "flex": null,
       "flex_flow": null,
       "grid_area": null,
       "grid_auto_columns": null,
       "grid_auto_flow": null,
       "grid_auto_rows": null,
       "grid_column": null,
       "grid_gap": null,
       "grid_row": null,
       "grid_template_areas": null,
       "grid_template_columns": null,
       "grid_template_rows": null,
       "height": null,
       "justify_content": null,
       "justify_items": null,
       "left": null,
       "margin": null,
       "max_height": null,
       "max_width": null,
       "min_height": null,
       "min_width": null,
       "object_fit": null,
       "object_position": null,
       "order": null,
       "overflow": null,
       "padding": null,
       "right": null,
       "top": null,
       "visibility": null,
       "width": null
      }
     },
     "89774ed4ce0548ba9ece2dafb104a3e1": {
      "model_module": "@jupyter-widgets/controls",
      "model_module_version": "2.0.0",
      "model_name": "HTMLStyleModel",
      "state": {
       "_model_module": "@jupyter-widgets/controls",
       "_model_module_version": "2.0.0",
       "_model_name": "HTMLStyleModel",
       "_view_count": null,
       "_view_module": "@jupyter-widgets/base",
       "_view_module_version": "2.0.0",
       "_view_name": "StyleView",
       "background": null,
       "description_width": "",
       "font_size": null,
       "text_color": null
      }
     },
     "90dd4243e5914576b6863efed3259b9a": {
      "model_module": "@jupyter-widgets/controls",
      "model_module_version": "2.0.0",
      "model_name": "HTMLStyleModel",
      "state": {
       "_model_module": "@jupyter-widgets/controls",
       "_model_module_version": "2.0.0",
       "_model_name": "HTMLStyleModel",
       "_view_count": null,
       "_view_module": "@jupyter-widgets/base",
       "_view_module_version": "2.0.0",
       "_view_name": "StyleView",
       "background": null,
       "description_width": "",
       "font_size": null,
       "text_color": null
      }
     },
     "95c4919e5d084589887d7ca1e7fd9de0": {
      "model_module": "@jupyter-widgets/controls",
      "model_module_version": "2.0.0",
      "model_name": "HTMLModel",
      "state": {
       "_dom_classes": [],
       "_model_module": "@jupyter-widgets/controls",
       "_model_module_version": "2.0.0",
       "_model_name": "HTMLModel",
       "_view_count": null,
       "_view_module": "@jupyter-widgets/controls",
       "_view_module_version": "2.0.0",
       "_view_name": "HTMLView",
       "description": "",
       "description_allow_html": false,
       "layout": "IPY_MODEL_a2bd334fdde0422c97495b5940821c75",
       "placeholder": "​",
       "style": "IPY_MODEL_89774ed4ce0548ba9ece2dafb104a3e1",
       "tabbable": null,
       "tooltip": null,
       "value": "model.safetensors: 100%"
      }
     },
     "973d5bae4f114f90af85ab3082f8df1d": {
      "model_module": "@jupyter-widgets/base",
      "model_module_version": "2.0.0",
      "model_name": "LayoutModel",
      "state": {
       "_model_module": "@jupyter-widgets/base",
       "_model_module_version": "2.0.0",
       "_model_name": "LayoutModel",
       "_view_count": null,
       "_view_module": "@jupyter-widgets/base",
       "_view_module_version": "2.0.0",
       "_view_name": "LayoutView",
       "align_content": null,
       "align_items": null,
       "align_self": null,
       "border_bottom": null,
       "border_left": null,
       "border_right": null,
       "border_top": null,
       "bottom": null,
       "display": null,
       "flex": null,
       "flex_flow": null,
       "grid_area": null,
       "grid_auto_columns": null,
       "grid_auto_flow": null,
       "grid_auto_rows": null,
       "grid_column": null,
       "grid_gap": null,
       "grid_row": null,
       "grid_template_areas": null,
       "grid_template_columns": null,
       "grid_template_rows": null,
       "height": null,
       "justify_content": null,
       "justify_items": null,
       "left": null,
       "margin": null,
       "max_height": null,
       "max_width": null,
       "min_height": null,
       "min_width": null,
       "object_fit": null,
       "object_position": null,
       "order": null,
       "overflow": null,
       "padding": null,
       "right": null,
       "top": null,
       "visibility": null,
       "width": null
      }
     },
     "a2bd334fdde0422c97495b5940821c75": {
      "model_module": "@jupyter-widgets/base",
      "model_module_version": "2.0.0",
      "model_name": "LayoutModel",
      "state": {
       "_model_module": "@jupyter-widgets/base",
       "_model_module_version": "2.0.0",
       "_model_name": "LayoutModel",
       "_view_count": null,
       "_view_module": "@jupyter-widgets/base",
       "_view_module_version": "2.0.0",
       "_view_name": "LayoutView",
       "align_content": null,
       "align_items": null,
       "align_self": null,
       "border_bottom": null,
       "border_left": null,
       "border_right": null,
       "border_top": null,
       "bottom": null,
       "display": null,
       "flex": null,
       "flex_flow": null,
       "grid_area": null,
       "grid_auto_columns": null,
       "grid_auto_flow": null,
       "grid_auto_rows": null,
       "grid_column": null,
       "grid_gap": null,
       "grid_row": null,
       "grid_template_areas": null,
       "grid_template_columns": null,
       "grid_template_rows": null,
       "height": null,
       "justify_content": null,
       "justify_items": null,
       "left": null,
       "margin": null,
       "max_height": null,
       "max_width": null,
       "min_height": null,
       "min_width": null,
       "object_fit": null,
       "object_position": null,
       "order": null,
       "overflow": null,
       "padding": null,
       "right": null,
       "top": null,
       "visibility": null,
       "width": null
      }
     },
     "b8ad238b696e47cebea176390176e086": {
      "model_module": "@jupyter-widgets/controls",
      "model_module_version": "2.0.0",
      "model_name": "FloatProgressModel",
      "state": {
       "_dom_classes": [],
       "_model_module": "@jupyter-widgets/controls",
       "_model_module_version": "2.0.0",
       "_model_name": "FloatProgressModel",
       "_view_count": null,
       "_view_module": "@jupyter-widgets/controls",
       "_view_module_version": "2.0.0",
       "_view_name": "ProgressView",
       "bar_style": "success",
       "description": "",
       "description_allow_html": false,
       "layout": "IPY_MODEL_6a16ee01829548a9ba7ce374cab9c2d3",
       "max": 345579424.0,
       "min": 0.0,
       "orientation": "horizontal",
       "style": "IPY_MODEL_8399b0c048814bfcb69b8fa370c615ef",
       "tabbable": null,
       "tooltip": null,
       "value": 345579424.0
      }
     },
     "bd0b768e6e6649deaae114016c4d68ae": {
      "model_module": "@jupyter-widgets/base",
      "model_module_version": "2.0.0",
      "model_name": "LayoutModel",
      "state": {
       "_model_module": "@jupyter-widgets/base",
       "_model_module_version": "2.0.0",
       "_model_name": "LayoutModel",
       "_view_count": null,
       "_view_module": "@jupyter-widgets/base",
       "_view_module_version": "2.0.0",
       "_view_name": "LayoutView",
       "align_content": null,
       "align_items": null,
       "align_self": null,
       "border_bottom": null,
       "border_left": null,
       "border_right": null,
       "border_top": null,
       "bottom": null,
       "display": null,
       "flex": null,
       "flex_flow": null,
       "grid_area": null,
       "grid_auto_columns": null,
       "grid_auto_flow": null,
       "grid_auto_rows": null,
       "grid_column": null,
       "grid_gap": null,
       "grid_row": null,
       "grid_template_areas": null,
       "grid_template_columns": null,
       "grid_template_rows": null,
       "height": null,
       "justify_content": null,
       "justify_items": null,
       "left": null,
       "margin": null,
       "max_height": null,
       "max_width": null,
       "min_height": null,
       "min_width": null,
       "object_fit": null,
       "object_position": null,
       "order": null,
       "overflow": null,
       "padding": null,
       "right": null,
       "top": null,
       "visibility": null,
       "width": null
      }
     },
     "d4cf3941dd834c48a836b19dd262b315": {
      "model_module": "@jupyter-widgets/controls",
      "model_module_version": "2.0.0",
      "model_name": "HTMLStyleModel",
      "state": {
       "_model_module": "@jupyter-widgets/controls",
       "_model_module_version": "2.0.0",
       "_model_name": "HTMLStyleModel",
       "_view_count": null,
       "_view_module": "@jupyter-widgets/base",
       "_view_module_version": "2.0.0",
       "_view_name": "StyleView",
       "background": null,
       "description_width": "",
       "font_size": null,
       "text_color": null
      }
     },
     "d973f76a5c1f4446aae3135d8acf4f69": {
      "model_module": "@jupyter-widgets/controls",
      "model_module_version": "2.0.0",
      "model_name": "HTMLStyleModel",
      "state": {
       "_model_module": "@jupyter-widgets/controls",
       "_model_module_version": "2.0.0",
       "_model_name": "HTMLStyleModel",
       "_view_count": null,
       "_view_module": "@jupyter-widgets/base",
       "_view_module_version": "2.0.0",
       "_view_name": "StyleView",
       "background": null,
       "description_width": "",
       "font_size": null,
       "text_color": null
      }
     },
     "dda4dab5940443179633e84313efa909": {
      "model_module": "@jupyter-widgets/controls",
      "model_module_version": "2.0.0",
      "model_name": "ProgressStyleModel",
      "state": {
       "_model_module": "@jupyter-widgets/controls",
       "_model_module_version": "2.0.0",
       "_model_name": "ProgressStyleModel",
       "_view_count": null,
       "_view_module": "@jupyter-widgets/base",
       "_view_module_version": "2.0.0",
       "_view_name": "StyleView",
       "bar_color": null,
       "description_width": ""
      }
     },
     "ede162997802487fb05f92be603b8e7c": {
      "model_module": "@jupyter-widgets/controls",
      "model_module_version": "2.0.0",
      "model_name": "HTMLModel",
      "state": {
       "_dom_classes": [],
       "_model_module": "@jupyter-widgets/controls",
       "_model_module_version": "2.0.0",
       "_model_name": "HTMLModel",
       "_view_count": null,
       "_view_module": "@jupyter-widgets/controls",
       "_view_module_version": "2.0.0",
       "_view_name": "HTMLView",
       "description": "",
       "description_allow_html": false,
       "layout": "IPY_MODEL_8643993e937d418fb00ff0b9983b2040",
       "placeholder": "​",
       "style": "IPY_MODEL_d4cf3941dd834c48a836b19dd262b315",
       "tabbable": null,
       "tooltip": null,
       "value": " 502/502 [00:00&lt;00:00, 35.0kB/s]"
      }
     },
     "ee696e78e20a4c67a8b1e42b9a779be7": {
      "model_module": "@jupyter-widgets/base",
      "model_module_version": "2.0.0",
      "model_name": "LayoutModel",
      "state": {
       "_model_module": "@jupyter-widgets/base",
       "_model_module_version": "2.0.0",
       "_model_name": "LayoutModel",
       "_view_count": null,
       "_view_module": "@jupyter-widgets/base",
       "_view_module_version": "2.0.0",
       "_view_name": "LayoutView",
       "align_content": null,
       "align_items": null,
       "align_self": null,
       "border_bottom": null,
       "border_left": null,
       "border_right": null,
       "border_top": null,
       "bottom": null,
       "display": null,
       "flex": null,
       "flex_flow": null,
       "grid_area": null,
       "grid_auto_columns": null,
       "grid_auto_flow": null,
       "grid_auto_rows": null,
       "grid_column": null,
       "grid_gap": null,
       "grid_row": null,
       "grid_template_areas": null,
       "grid_template_columns": null,
       "grid_template_rows": null,
       "height": null,
       "justify_content": null,
       "justify_items": null,
       "left": null,
       "margin": null,
       "max_height": null,
       "max_width": null,
       "min_height": null,
       "min_width": null,
       "object_fit": null,
       "object_position": null,
       "order": null,
       "overflow": null,
       "padding": null,
       "right": null,
       "top": null,
       "visibility": null,
       "width": null
      }
     }
    },
    "version_major": 2,
    "version_minor": 0
   }
  }
 },
 "nbformat": 4,
 "nbformat_minor": 5
}
